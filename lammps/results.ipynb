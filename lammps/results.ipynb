{
 "cells": [
  {
   "cell_type": "code",
   "execution_count": 1,
   "metadata": {},
   "outputs": [],
   "source": [
    "import numpy as np\n",
    "import matplotlib.pyplot as plt\n",
    "import os\n",
    "from collections import deque\n",
    "pwd = os.getcwd()"
   ]
  },
  {
   "cell_type": "code",
   "execution_count": 2,
   "metadata": {},
   "outputs": [],
   "source": [
    "curr_modules = ['lammps-22Aug18']\n",
    "\n",
    "#'lammps-mpich', Segfaults!\n",
    "#'lammps-10Feb2015-lammps-gcc' Segfault on every other run :( \n",
    "#'lammps-31Mar17-mpich', Only for GPU nodes!\n",
    "#'lammps-gcc', Too old to print timesteps/day in logfile\n",
    "#'lammps-gcc-mkl', Too old to print timesteps/day in logfile\n",
    "#'lammps-intel', Too old to print timesteps/day in logfile\n",
    "#'lammps-intel-mkl', Too old to print timesteps/day in logfile"
   ]
  },
  {
   "cell_type": "code",
   "execution_count": 3,
   "metadata": {},
   "outputs": [],
   "source": [
    "os.chdir(pwd+\"/current/questbeta/%s\" % curr_modules[0])\n",
    "\n",
    "p = np.zeros(20)\n",
    "\n",
    "for run in range(len(p)):\n",
    "    F = open(\"log_\"+str(run+1))\n",
    "    f = F.readlines()\n",
    "\n",
    "    for i in range(len(f)):\n",
    "        l = f[i].split()\n",
    "        if len(l) > 0:\n",
    "            if l[0]==\"Performance:\":\n",
    "                p[run-1] = l[3]\n",
    "    \n",
    "current_perf = np.mean(p)"
   ]
  },
  {
   "cell_type": "code",
   "execution_count": 4,
   "metadata": {},
   "outputs": [],
   "source": [
    "os.chdir(pwd+\"/new/questbeta/\")\n",
    "\n",
    "p = np.zeros(20)\n",
    "\n",
    "for run in range(len(p)):\n",
    "    F = open(\"log_\"+str(run+1),encoding = \"ISO-8859-1\")\n",
    "    f = F.readlines()\n",
    "\n",
    "    for i in range(len(f)):\n",
    "        l = f[i].split()\n",
    "        if len(l) > 0:\n",
    "            if l[0]==\"Performance:\":\n",
    "                p[run-1] = l[3]\n",
    "    \n",
    "new_perf = np.mean(p)"
   ]
  },
  {
   "cell_type": "code",
   "execution_count": 5,
   "metadata": {},
   "outputs": [
    {
     "name": "stdout",
     "output_type": "stream",
     "text": [
      "Average current perf is :  765.8393000000001  timesteps/day\n"
     ]
    }
   ],
   "source": [
    "print(\"Average current perf is : \", current_perf, \" timesteps/day\")"
   ]
  },
  {
   "cell_type": "code",
   "execution_count": 6,
   "metadata": {},
   "outputs": [
    {
     "name": "stdout",
     "output_type": "stream",
     "text": [
      "Average new perf is :  1016.56915  timesteps/day\n"
     ]
    }
   ],
   "source": [
    "print(\"Average new perf is : \", new_perf, \" timesteps/day\")"
   ]
  },
  {
   "cell_type": "code",
   "execution_count": null,
   "metadata": {},
   "outputs": [],
   "source": []
  }
 ],
 "metadata": {
  "kernelspec": {
   "display_name": "Python 3",
   "language": "python",
   "name": "python3"
  },
  "language_info": {
   "codemirror_mode": {
    "name": "ipython",
    "version": 3
   },
   "file_extension": ".py",
   "mimetype": "text/x-python",
   "name": "python",
   "nbconvert_exporter": "python",
   "pygments_lexer": "ipython3",
   "version": "3.6.9"
  }
 },
 "nbformat": 4,
 "nbformat_minor": 4
}
